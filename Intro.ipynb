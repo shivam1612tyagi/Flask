{
 "cells": [
  {
   "cell_type": "markdown",
   "id": "ebabb7ae",
   "metadata": {},
   "source": [
    "# understanding of simple flask web application"
   ]
  },
  {
   "cell_type": "code",
   "execution_count": null,
   "id": "96d7af2b",
   "metadata": {
    "scrolled": true
   },
   "outputs": [
    {
     "name": "stdout",
     "output_type": "stream",
     "text": [
      " * Serving Flask app '__main__'\n",
      " * Debug mode: off\n"
     ]
    },
    {
     "name": "stderr",
     "output_type": "stream",
     "text": [
      "WARNING: This is a development server. Do not use it in a production deployment. Use a production WSGI server instead.\n",
      " * Running on http://127.0.0.1:5000\n",
      "Press CTRL+C to quit\n"
     ]
    }
   ],
   "source": [
    "''' Import the flask class from the flask module '''\n",
    "from flask import Flask\n",
    "\n",
    "#create the instance of the Flask class\n",
    "app = Flask(__name__)\n",
    "\n",
    "\n",
    "\n",
    "#define the main entry point of the application\n",
    "if __name__ == '__main__':\n",
    "  app.run() #run the falsk applicationon the local development server\n"
   ]
  },
  {
   "cell_type": "code",
   "execution_count": null,
   "id": "1b6b2245",
   "metadata": {},
   "outputs": [],
   "source": [
    "''' Import the flask class from the flask module '''\n",
    "from flask import Flask\n",
    "\n",
    "#create the instance of the Flask class\n",
    "app = Flask(__name__)\n",
    "\n",
    "# define the route for the home page\n",
    "@app.route('/')\n",
    "def welcome():\n",
    "  return \"Welcome to my 1st flask web application\" # return the welcome message\n",
    "\n",
    "\n",
    "#define the main entry point of the application\n",
    "if __name__ == '__main__':\n",
    "  app.run() #run the falsk application the local development server\n"
   ]
  },
  {
   "cell_type": "code",
   "execution_count": null,
   "id": "078bc2d7",
   "metadata": {},
   "outputs": [],
   "source": [
    "''' Import the flask class from the flask module '''\n",
    "from flask import Flask\n",
    "\n",
    "#create the instance of the Flask class\n",
    "app = Flask(__name__)\n",
    "\n",
    "# define the route for the home page\n",
    "@app.route('/')\n",
    "def welcome():\n",
    "  return \"Welcome to my 1st flask web application\"  # return the welcome message\n",
    "\n",
    "#define the route for the user page\n",
    "@app.route('/user')\n",
    "def user():\n",
    "  return \"welcome User! I am glad to see you!\" #return a message for the user\n",
    "\n",
    "#define the main entry point of the application\n",
    "if __name__ == '__main__':\n",
    "  app.run(debug = True) #run the falsk application the local development server with debug mode enabled."
   ]
  }
 ],
 "metadata": {
  "kernelspec": {
   "display_name": "Python 3 (ipykernel)",
   "language": "python",
   "name": "python3"
  },
  "language_info": {
   "codemirror_mode": {
    "name": "ipython",
    "version": 3
   },
   "file_extension": ".py",
   "mimetype": "text/x-python",
   "name": "python",
   "nbconvert_exporter": "python",
   "pygments_lexer": "ipython3",
   "version": "3.11.5"
  }
 },
 "nbformat": 4,
 "nbformat_minor": 5
}
